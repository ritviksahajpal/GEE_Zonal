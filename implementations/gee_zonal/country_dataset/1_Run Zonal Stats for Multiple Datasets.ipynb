{
 "cells": [
  {
   "cell_type": "markdown",
   "id": "arabic-influence",
   "metadata": {},
   "source": [
    "This first notebook uses the ZonalStats python class to submit several tasks to the Google Earth Engine API. Each task requests country-level zonal stats from a specifc dataset. This results in csv tables that then need to be merged into one dataset."
   ]
  },
  {
   "cell_type": "code",
   "execution_count": 1,
   "id": "falling-senegal",
   "metadata": {},
   "outputs": [],
   "source": [
    "import sys\n",
    "sys.path.append('../../src') # relative path where the library is stored\n",
    "# alternatively sys.path.append('C/Users/wb514197/Repos/GEE_Zonal/src')"
   ]
  },
  {
   "cell_type": "code",
   "execution_count": 2,
   "id": "congressional-heather",
   "metadata": {},
   "outputs": [],
   "source": [
    "from gee_tools import Catalog, ZonalStats, ZonalStats_Tsinghua, ZonalStats_Modis\n",
    "import ee\n",
    "import pandas as pd\n",
    "import os\n",
    "import glob"
   ]
  },
  {
   "cell_type": "code",
   "execution_count": 3,
   "id": "sublime-copyright",
   "metadata": {},
   "outputs": [],
   "source": [
    "ee.Initialize()"
   ]
  },
  {
   "cell_type": "code",
   "execution_count": 4,
   "id": "wicked-driving",
   "metadata": {},
   "outputs": [],
   "source": [
    "cat = Catalog()"
   ]
  },
  {
   "cell_type": "markdown",
   "id": "framed-trigger",
   "metadata": {},
   "source": [
    "## NDVI"
   ]
  },
  {
   "cell_type": "code",
   "execution_count": 6,
   "id": "general-rainbow",
   "metadata": {},
   "outputs": [],
   "source": [
    "results = cat.search_tags(\"ndvi\")"
   ]
  },
  {
   "cell_type": "code",
   "execution_count": 7,
   "id": "helpful-borough",
   "metadata": {},
   "outputs": [],
   "source": [
    "results = results.search_title(\"landsat\")"
   ]
  },
  {
   "cell_type": "code",
   "execution_count": 8,
   "id": "pediatric-appliance",
   "metadata": {},
   "outputs": [],
   "source": [
    "results = results.search_title(\"8-day\")"
   ]
  },
  {
   "cell_type": "code",
   "execution_count": 9,
   "id": "soviet-guitar",
   "metadata": {},
   "outputs": [
    {
     "data": {
      "text/html": [
       "<div>\n",
       "<style scoped>\n",
       "    .dataframe tbody tr th:only-of-type {\n",
       "        vertical-align: middle;\n",
       "    }\n",
       "\n",
       "    .dataframe tbody tr th {\n",
       "        vertical-align: top;\n",
       "    }\n",
       "\n",
       "    .dataframe thead th {\n",
       "        text-align: right;\n",
       "    }\n",
       "</style>\n",
       "<table border=\"1\" class=\"dataframe\">\n",
       "  <thead>\n",
       "    <tr style=\"text-align: right;\">\n",
       "      <th></th>\n",
       "      <th>id</th>\n",
       "      <th>provider</th>\n",
       "      <th>title</th>\n",
       "      <th>start_date</th>\n",
       "      <th>end_date</th>\n",
       "      <th>startyear</th>\n",
       "      <th>endyear</th>\n",
       "      <th>type</th>\n",
       "      <th>tags</th>\n",
       "      <th>asset_url</th>\n",
       "      <th>thumbnail_url</th>\n",
       "    </tr>\n",
       "  </thead>\n",
       "  <tbody>\n",
       "    <tr>\n",
       "      <th>162</th>\n",
       "      <td>LANDSAT/LC08/C01/T1_8DAY_NDVI</td>\n",
       "      <td>Google</td>\n",
       "      <td>Landsat 8 Collection 1 Tier 1 8-Day NDVI Composite</td>\n",
       "      <td>2013-04-11</td>\n",
       "      <td>2021-03-09</td>\n",
       "      <td>2013</td>\n",
       "      <td>2021</td>\n",
       "      <td>image_collection</td>\n",
       "      <td>[ndvi]</td>\n",
       "      <td>https://developers.google.com/earth-engine/datasets/catalog/LANDSAT_LC08_C01_T1_8DAY_NDVI</td>\n",
       "      <td>https://mw1.google.com/ges/dd/images/NDVI_sample.png</td>\n",
       "    </tr>\n",
       "    <tr>\n",
       "      <th>195</th>\n",
       "      <td>LANDSAT/LE07/C01/T1_8DAY_NDVI</td>\n",
       "      <td>Google</td>\n",
       "      <td>Landsat 7 Collection 1 Tier 1 8-Day NDVI Composite</td>\n",
       "      <td>1999-01-01</td>\n",
       "      <td>2021-03-09</td>\n",
       "      <td>1999</td>\n",
       "      <td>2021</td>\n",
       "      <td>image_collection</td>\n",
       "      <td>[ndvi]</td>\n",
       "      <td>https://developers.google.com/earth-engine/datasets/catalog/LANDSAT_LE07_C01_T1_8DAY_NDVI</td>\n",
       "      <td>https://mw1.google.com/ges/dd/images/NDVI_sample.png</td>\n",
       "    </tr>\n",
       "    <tr>\n",
       "      <th>244</th>\n",
       "      <td>LANDSAT/LT04/C01/T1_8DAY_NDVI</td>\n",
       "      <td>Google</td>\n",
       "      <td>Landsat 4 TM Collection 1 Tier 1 8-Day NDVI Composite</td>\n",
       "      <td>1982-08-22</td>\n",
       "      <td>1993-12-14</td>\n",
       "      <td>1982</td>\n",
       "      <td>1993</td>\n",
       "      <td>image_collection</td>\n",
       "      <td>[ndvi]</td>\n",
       "      <td>https://developers.google.com/earth-engine/datasets/catalog/LANDSAT_LT04_C01_T1_8DAY_NDVI</td>\n",
       "      <td>https://mw1.google.com/ges/dd/images/NDVI_sample.png</td>\n",
       "    </tr>\n",
       "    <tr>\n",
       "      <th>275</th>\n",
       "      <td>LANDSAT/LT05/C01/T1_8DAY_NDVI</td>\n",
       "      <td>Google</td>\n",
       "      <td>Landsat 5 TM Collection 1 Tier 1 8-Day NDVI Composite</td>\n",
       "      <td>1984-01-01</td>\n",
       "      <td>2012-05-05</td>\n",
       "      <td>1984</td>\n",
       "      <td>2012</td>\n",
       "      <td>image_collection</td>\n",
       "      <td>[ndvi]</td>\n",
       "      <td>https://developers.google.com/earth-engine/datasets/catalog/LANDSAT_LT05_C01_T1_8DAY_NDVI</td>\n",
       "      <td>https://mw1.google.com/ges/dd/images/NDVI_sample.png</td>\n",
       "    </tr>\n",
       "  </tbody>\n",
       "</table>\n",
       "</div>"
      ],
      "text/plain": [
       "                                id provider  \\\n",
       "162  LANDSAT/LC08/C01/T1_8DAY_NDVI   Google   \n",
       "195  LANDSAT/LE07/C01/T1_8DAY_NDVI   Google   \n",
       "244  LANDSAT/LT04/C01/T1_8DAY_NDVI   Google   \n",
       "275  LANDSAT/LT05/C01/T1_8DAY_NDVI   Google   \n",
       "\n",
       "                                                     title start_date  \\\n",
       "162     Landsat 8 Collection 1 Tier 1 8-Day NDVI Composite 2013-04-11   \n",
       "195     Landsat 7 Collection 1 Tier 1 8-Day NDVI Composite 1999-01-01   \n",
       "244  Landsat 4 TM Collection 1 Tier 1 8-Day NDVI Composite 1982-08-22   \n",
       "275  Landsat 5 TM Collection 1 Tier 1 8-Day NDVI Composite 1984-01-01   \n",
       "\n",
       "      end_date  startyear  endyear              type    tags  \\\n",
       "162 2021-03-09       2013     2021  image_collection  [ndvi]   \n",
       "195 2021-03-09       1999     2021  image_collection  [ndvi]   \n",
       "244 1993-12-14       1982     1993  image_collection  [ndvi]   \n",
       "275 2012-05-05       1984     2012  image_collection  [ndvi]   \n",
       "\n",
       "                                                                                     asset_url  \\\n",
       "162  https://developers.google.com/earth-engine/datasets/catalog/LANDSAT_LC08_C01_T1_8DAY_NDVI   \n",
       "195  https://developers.google.com/earth-engine/datasets/catalog/LANDSAT_LE07_C01_T1_8DAY_NDVI   \n",
       "244  https://developers.google.com/earth-engine/datasets/catalog/LANDSAT_LT04_C01_T1_8DAY_NDVI   \n",
       "275  https://developers.google.com/earth-engine/datasets/catalog/LANDSAT_LT05_C01_T1_8DAY_NDVI   \n",
       "\n",
       "                                            thumbnail_url  \n",
       "162  https://mw1.google.com/ges/dd/images/NDVI_sample.png  \n",
       "195  https://mw1.google.com/ges/dd/images/NDVI_sample.png  \n",
       "244  https://mw1.google.com/ges/dd/images/NDVI_sample.png  \n",
       "275  https://mw1.google.com/ges/dd/images/NDVI_sample.png  "
      ]
     },
     "execution_count": 9,
     "metadata": {},
     "output_type": "execute_result"
    }
   ],
   "source": [
    "results.datasets"
   ]
  },
  {
   "cell_type": "code",
   "execution_count": 10,
   "id": "structural-course",
   "metadata": {},
   "outputs": [],
   "source": [
    "# AOIs = ee.FeatureCollection('users/afche18/Admin0_Polys_1000m')\n",
    "AOIs = ee.FeatureCollection('users/afche18/Ethiopia_AOI') # for testing"
   ]
  },
  {
   "cell_type": "code",
   "execution_count": 11,
   "id": "fixed-entertainment",
   "metadata": {},
   "outputs": [],
   "source": [
    "# we try to run a separate task for each temporal statistic\n",
    "temp_stats = [\"mean\", \"max\", \"min\", \"stddev\"]"
   ]
  },
  {
   "cell_type": "code",
   "execution_count": 16,
   "id": "competent-option",
   "metadata": {},
   "outputs": [],
   "source": [
    "# dictionary to collect and monitor tasks\n",
    "ndvi_zs = {}"
   ]
  },
  {
   "cell_type": "code",
   "execution_count": 25,
   "id": "medical-vault",
   "metadata": {},
   "outputs": [],
   "source": [
    "?ZonalStats"
   ]
  },
  {
   "cell_type": "code",
   "execution_count": 17,
   "id": "rocky-musical",
   "metadata": {},
   "outputs": [
    {
     "name": "stdout",
     "output_type": "stream",
     "text": [
      "Processing LANDSAT/LC08/C01/T1_8DAY_NDVI\n",
      "Processing LANDSAT/LE07/C01/T1_8DAY_NDVI\n",
      "Processing LANDSAT/LT04/C01/T1_8DAY_NDVI\n",
      "Processing LANDSAT/LT05/C01/T1_8DAY_NDVI\n"
     ]
    }
   ],
   "source": [
    "for landsat_collection in results.datasets.id:\n",
    "    print(f\"Processing {landsat_collection}\")\n",
    "    lc_id = landsat_collection[landsat_collection.find(\"/\")+1:landsat_collection.find(\"/\")+5]\n",
    "    \n",
    "    collection_results = []\n",
    "    for stat in temp_stats:\n",
    "\n",
    "        zs = ZonalStats(\n",
    "            collection_id=landsat_collection, \n",
    "            target_features=AOIs,\n",
    "            statistic_type=\"all\", \n",
    "            output_name=f\"{lc_id}_ndvi_{stat}\",\n",
    "            scale=1000,\n",
    "            min_threshold=0.1,\n",
    "            water_mask=True,\n",
    "            frequency='annual',\n",
    "            temporal_stat=stat,\n",
    "            tile_scale = 16,\n",
    "            start_year = 2020,\n",
    "            end=year 2022\n",
    "        )\n",
    "        zs.runZonalStats()\n",
    "        collection_results.append(zs)\n",
    "\n",
    "    ndvi_zs[lc_id] = collection_results"
   ]
  },
  {
   "cell_type": "code",
   "execution_count": null,
   "id": "parental-wallet",
   "metadata": {},
   "outputs": [],
   "source": [
    "for stat in temp_stats:\n",
    "\n",
    "    zs = ZonalStats(\n",
    "        collection_id=\"LANDSAT/LC08/C01/T1_8DAY_NDVI\", \n",
    "        target_features=AOIs,\n",
    "        statistic_type=\"all\", \n",
    "        output_name=f\"L8_ndvi_{stat}\",\n",
    "        scale=1000,\n",
    "        min_threshold=0.1,\n",
    "        water_mask=True,\n",
    "        frequency='annual',\n",
    "        temporal_stat=stat,\n",
    "        tile_scale = 16,\n",
    "        start_year = 2018,\n",
    "        end_year = 2022\n",
    "    )\n",
    "    zs.runZonalStats()\n",
    "    collection_results.append(zs)\n"
   ]
  },
  {
   "cell_type": "code",
   "execution_count": 24,
   "id": "assigned-fantasy",
   "metadata": {},
   "outputs": [
    {
     "name": "stdout",
     "output_type": "stream",
     "text": [
      "LC08\n",
      "Completed\n",
      "Runtime: 0 minutes and 8 seconds\n",
      "Completed\n",
      "Runtime: 0 minutes and 10 seconds\n",
      "Completed\n",
      "Runtime: 0 minutes and 5 seconds\n",
      "Completed\n",
      "Runtime: 0 minutes and 5 seconds\n",
      "LE07\n",
      "Completed\n",
      "Runtime: 0 minutes and 12 seconds\n",
      "Completed\n",
      "Runtime: 0 minutes and 24 seconds\n",
      "Completed\n",
      "Runtime: 0 minutes and 17 seconds\n",
      "Status is Ready, hasn't started\n",
      "LT04\n",
      "Status is Ready, hasn't started\n",
      "Status is Ready, hasn't started\n",
      "Status is Ready, hasn't started\n",
      "Status is Ready, hasn't started\n",
      "LT05\n",
      "Status is Ready, hasn't started\n",
      "Status is Ready, hasn't started\n",
      "Status is Ready, hasn't started\n",
      "Status is Ready, hasn't started\n"
     ]
    }
   ],
   "source": [
    "for lc_id, zs_list in ndvi_zs.items():\n",
    "    print(lc_id)\n",
    "    for zs in zs_list:\n",
    "        zs.reportRunTime()\n",
    "#         print(\"\\t\"+zs.task.status()['state'])"
   ]
  },
  {
   "cell_type": "markdown",
   "id": "qualified-ticket",
   "metadata": {},
   "source": [
    "## EVI"
   ]
  },
  {
   "cell_type": "code",
   "execution_count": 22,
   "id": "intelligent-belly",
   "metadata": {},
   "outputs": [],
   "source": [
    "results = cat.search_tags(\"evi\")\n",
    "results = results.search_title(\"landsat\")\n",
    "results = results.search_title(\"8-day\")"
   ]
  },
  {
   "cell_type": "code",
   "execution_count": 23,
   "id": "cubic-caution",
   "metadata": {},
   "outputs": [
    {
     "data": {
      "text/html": [
       "<div>\n",
       "<style scoped>\n",
       "    .dataframe tbody tr th:only-of-type {\n",
       "        vertical-align: middle;\n",
       "    }\n",
       "\n",
       "    .dataframe tbody tr th {\n",
       "        vertical-align: top;\n",
       "    }\n",
       "\n",
       "    .dataframe thead th {\n",
       "        text-align: right;\n",
       "    }\n",
       "</style>\n",
       "<table border=\"1\" class=\"dataframe\">\n",
       "  <thead>\n",
       "    <tr style=\"text-align: right;\">\n",
       "      <th></th>\n",
       "      <th>id</th>\n",
       "      <th>provider</th>\n",
       "      <th>title</th>\n",
       "      <th>start_date</th>\n",
       "      <th>end_date</th>\n",
       "      <th>startyear</th>\n",
       "      <th>endyear</th>\n",
       "      <th>type</th>\n",
       "      <th>tags</th>\n",
       "      <th>asset_url</th>\n",
       "      <th>thumbnail_url</th>\n",
       "    </tr>\n",
       "  </thead>\n",
       "  <tbody>\n",
       "    <tr>\n",
       "      <th>159</th>\n",
       "      <td>LANDSAT/LC08/C01/T1_8DAY_EVI</td>\n",
       "      <td>Google</td>\n",
       "      <td>Landsat 8 Collection 1 Tier 1 8-Day EVI Composite</td>\n",
       "      <td>2013-04-11</td>\n",
       "      <td>2021-03-09</td>\n",
       "      <td>2013</td>\n",
       "      <td>2021</td>\n",
       "      <td>image_collection</td>\n",
       "      <td>[evi]</td>\n",
       "      <td>https://developers.google.com/earth-engine/datasets/catalog/LANDSAT_LC08_C01_T1_8DAY_EVI</td>\n",
       "      <td>https://mw1.google.com/ges/dd/images/EVI_sample.png</td>\n",
       "    </tr>\n",
       "    <tr>\n",
       "      <th>192</th>\n",
       "      <td>LANDSAT/LE07/C01/T1_8DAY_EVI</td>\n",
       "      <td>Google</td>\n",
       "      <td>Landsat 7 Collection 1 Tier 1 8-Day EVI Composite</td>\n",
       "      <td>1999-01-01</td>\n",
       "      <td>2021-03-09</td>\n",
       "      <td>1999</td>\n",
       "      <td>2021</td>\n",
       "      <td>image_collection</td>\n",
       "      <td>[evi]</td>\n",
       "      <td>https://developers.google.com/earth-engine/datasets/catalog/LANDSAT_LE07_C01_T1_8DAY_EVI</td>\n",
       "      <td>https://mw1.google.com/ges/dd/images/EVI_sample.png</td>\n",
       "    </tr>\n",
       "    <tr>\n",
       "      <th>241</th>\n",
       "      <td>LANDSAT/LT04/C01/T1_8DAY_EVI</td>\n",
       "      <td>Google</td>\n",
       "      <td>Landsat 4 TM Collection 1 Tier 1 8-Day EVI Composite</td>\n",
       "      <td>1982-08-22</td>\n",
       "      <td>1993-12-14</td>\n",
       "      <td>1982</td>\n",
       "      <td>1993</td>\n",
       "      <td>image_collection</td>\n",
       "      <td>[evi]</td>\n",
       "      <td>https://developers.google.com/earth-engine/datasets/catalog/LANDSAT_LT04_C01_T1_8DAY_EVI</td>\n",
       "      <td>https://mw1.google.com/ges/dd/images/EVI_sample.png</td>\n",
       "    </tr>\n",
       "    <tr>\n",
       "      <th>272</th>\n",
       "      <td>LANDSAT/LT05/C01/T1_8DAY_EVI</td>\n",
       "      <td>Google</td>\n",
       "      <td>Landsat 5 TM Collection 1 Tier 1 8-Day EVI Composite</td>\n",
       "      <td>1984-01-01</td>\n",
       "      <td>2012-05-05</td>\n",
       "      <td>1984</td>\n",
       "      <td>2012</td>\n",
       "      <td>image_collection</td>\n",
       "      <td>[evi]</td>\n",
       "      <td>https://developers.google.com/earth-engine/datasets/catalog/LANDSAT_LT05_C01_T1_8DAY_EVI</td>\n",
       "      <td>https://mw1.google.com/ges/dd/images/EVI_sample.png</td>\n",
       "    </tr>\n",
       "  </tbody>\n",
       "</table>\n",
       "</div>"
      ],
      "text/plain": [
       "                               id provider  \\\n",
       "159  LANDSAT/LC08/C01/T1_8DAY_EVI   Google   \n",
       "192  LANDSAT/LE07/C01/T1_8DAY_EVI   Google   \n",
       "241  LANDSAT/LT04/C01/T1_8DAY_EVI   Google   \n",
       "272  LANDSAT/LT05/C01/T1_8DAY_EVI   Google   \n",
       "\n",
       "                                                    title start_date  \\\n",
       "159     Landsat 8 Collection 1 Tier 1 8-Day EVI Composite 2013-04-11   \n",
       "192     Landsat 7 Collection 1 Tier 1 8-Day EVI Composite 1999-01-01   \n",
       "241  Landsat 4 TM Collection 1 Tier 1 8-Day EVI Composite 1982-08-22   \n",
       "272  Landsat 5 TM Collection 1 Tier 1 8-Day EVI Composite 1984-01-01   \n",
       "\n",
       "      end_date  startyear  endyear              type   tags  \\\n",
       "159 2021-03-09       2013     2021  image_collection  [evi]   \n",
       "192 2021-03-09       1999     2021  image_collection  [evi]   \n",
       "241 1993-12-14       1982     1993  image_collection  [evi]   \n",
       "272 2012-05-05       1984     2012  image_collection  [evi]   \n",
       "\n",
       "                                                                                    asset_url  \\\n",
       "159  https://developers.google.com/earth-engine/datasets/catalog/LANDSAT_LC08_C01_T1_8DAY_EVI   \n",
       "192  https://developers.google.com/earth-engine/datasets/catalog/LANDSAT_LE07_C01_T1_8DAY_EVI   \n",
       "241  https://developers.google.com/earth-engine/datasets/catalog/LANDSAT_LT04_C01_T1_8DAY_EVI   \n",
       "272  https://developers.google.com/earth-engine/datasets/catalog/LANDSAT_LT05_C01_T1_8DAY_EVI   \n",
       "\n",
       "                                           thumbnail_url  \n",
       "159  https://mw1.google.com/ges/dd/images/EVI_sample.png  \n",
       "192  https://mw1.google.com/ges/dd/images/EVI_sample.png  \n",
       "241  https://mw1.google.com/ges/dd/images/EVI_sample.png  \n",
       "272  https://mw1.google.com/ges/dd/images/EVI_sample.png  "
      ]
     },
     "execution_count": 23,
     "metadata": {},
     "output_type": "execute_result"
    }
   ],
   "source": [
    "results.datasets"
   ]
  },
  {
   "cell_type": "code",
   "execution_count": 30,
   "id": "fewer-waterproof",
   "metadata": {},
   "outputs": [],
   "source": [
    "evi_zs = {}"
   ]
  },
  {
   "cell_type": "code",
   "execution_count": 31,
   "id": "variable-berry",
   "metadata": {},
   "outputs": [
    {
     "name": "stdout",
     "output_type": "stream",
     "text": [
      "Processing LANDSAT/LC08/C01/T1_8DAY_EVI\n",
      "Processing LANDSAT/LE07/C01/T1_8DAY_EVI\n",
      "Processing LANDSAT/LT04/C01/T1_8DAY_EVI\n",
      "Processing LANDSAT/LT05/C01/T1_8DAY_EVI\n"
     ]
    }
   ],
   "source": [
    "for landsat_collection in results.datasets.id:\n",
    "    print(f\"Processing {landsat_collection}\")\n",
    "    lc_id = landsat_collection[landsat_collection.find(\"/\")+1:landsat_collection.find(\"/\")+5]\n",
    "    \n",
    "    collection_results = []\n",
    "    for stat in temp_stats:\n",
    "\n",
    "        zs = ZonalStats(\n",
    "            collection_id=landsat_collection, \n",
    "            target_features=AOIs,\n",
    "            statistic_type=\"all\", \n",
    "            output_name=f\"{lc_id}_evi_{stat}\",\n",
    "            scale=2000,\n",
    "            min_threshold=0.1,\n",
    "            water_mask=True,\n",
    "            frequency='annual',\n",
    "            temporal_stat=stat,\n",
    "            tile_scale = 16,\n",
    "        )\n",
    "        zs.runZonalStats()\n",
    "        collection_results.append(zs)\n",
    "\n",
    "    evi_zs[lc_id] = collection_results"
   ]
  },
  {
   "cell_type": "code",
   "execution_count": 138,
   "id": "protecting-petersburg",
   "metadata": {},
   "outputs": [
    {
     "name": "stdout",
     "output_type": "stream",
     "text": [
      "LC08\n",
      "Completed\n",
      "Runtime: 8 minutes and 37 seconds\n",
      "Completed\n",
      "Runtime: 11 minutes and 36 seconds\n",
      "Completed\n",
      "Runtime: 14 minutes and 12 seconds\n",
      "Completed\n",
      "Runtime: 13 minutes and 29 seconds\n",
      "LE07\n",
      "Completed\n",
      "Runtime: 18 minutes and 56 seconds\n",
      "Failed!\n",
      "User memory limit exceeded.\n",
      "Completed\n",
      "Runtime: 18 minutes and 45 seconds\n",
      "Completed\n",
      "Runtime: 19 minutes and 36 seconds\n",
      "LT04\n",
      "Completed\n",
      "Runtime: 6 minutes and 0 seconds\n",
      "Completed\n",
      "Runtime: 1 minutes and 30 seconds\n",
      "Completed\n",
      "Runtime: 1 minutes and 30 seconds\n",
      "Completed\n",
      "Runtime: 2 minutes and 1 seconds\n",
      "LT05\n",
      "Failed!\n",
      "User memory limit exceeded.\n",
      "Failed!\n",
      "User memory limit exceeded.\n",
      "Completed\n",
      "Runtime: 15 minutes and 43 seconds\n",
      "Completed\n",
      "Runtime: 19 minutes and 37 seconds\n"
     ]
    }
   ],
   "source": [
    "for lc_id, zs_list in evi_zs.items():\n",
    "    print(lc_id)\n",
    "    for zs in zs_list:\n",
    "        zs.reportRunTime()\n",
    "#         zs.task.cancel()\n",
    "#         print(\"\\t\"+zs.task.status()['state'])"
   ]
  },
  {
   "cell_type": "markdown",
   "id": "atmospheric-ceiling",
   "metadata": {},
   "source": [
    "## NDSI"
   ]
  },
  {
   "cell_type": "code",
   "execution_count": 32,
   "id": "characteristic-integral",
   "metadata": {},
   "outputs": [],
   "source": [
    "results = cat.search_tags(\"ndsi\")\n",
    "results = results.search_title(\"landsat\")\n",
    "results = results.search_title(\"8-day\")"
   ]
  },
  {
   "cell_type": "code",
   "execution_count": 33,
   "id": "fallen-difference",
   "metadata": {},
   "outputs": [
    {
     "data": {
      "text/html": [
       "<div>\n",
       "<style scoped>\n",
       "    .dataframe tbody tr th:only-of-type {\n",
       "        vertical-align: middle;\n",
       "    }\n",
       "\n",
       "    .dataframe tbody tr th {\n",
       "        vertical-align: top;\n",
       "    }\n",
       "\n",
       "    .dataframe thead th {\n",
       "        text-align: right;\n",
       "    }\n",
       "</style>\n",
       "<table border=\"1\" class=\"dataframe\">\n",
       "  <thead>\n",
       "    <tr style=\"text-align: right;\">\n",
       "      <th></th>\n",
       "      <th>id</th>\n",
       "      <th>provider</th>\n",
       "      <th>title</th>\n",
       "      <th>start_date</th>\n",
       "      <th>end_date</th>\n",
       "      <th>startyear</th>\n",
       "      <th>endyear</th>\n",
       "      <th>type</th>\n",
       "      <th>tags</th>\n",
       "      <th>asset_url</th>\n",
       "      <th>thumbnail_url</th>\n",
       "    </tr>\n",
       "  </thead>\n",
       "  <tbody>\n",
       "    <tr>\n",
       "      <th>161</th>\n",
       "      <td>LANDSAT/LC08/C01/T1_8DAY_NDSI</td>\n",
       "      <td>Google</td>\n",
       "      <td>Landsat 8 Collection 1 Tier 1 8-Day NDSI Composite</td>\n",
       "      <td>2013-04-11</td>\n",
       "      <td>2021-03-09</td>\n",
       "      <td>2013</td>\n",
       "      <td>2021</td>\n",
       "      <td>image_collection</td>\n",
       "      <td>[ndsi]</td>\n",
       "      <td>https://developers.google.com/earth-engine/datasets/catalog/LANDSAT_LC08_C01_T1_8DAY_NDSI</td>\n",
       "      <td>https://mw1.google.com/ges/dd/images/NDSI_sample.png</td>\n",
       "    </tr>\n",
       "    <tr>\n",
       "      <th>194</th>\n",
       "      <td>LANDSAT/LE07/C01/T1_8DAY_NDSI</td>\n",
       "      <td>Google</td>\n",
       "      <td>Landsat 7 Collection 1 Tier 1 8-Day NDSI Composite</td>\n",
       "      <td>1999-01-01</td>\n",
       "      <td>2021-03-09</td>\n",
       "      <td>1999</td>\n",
       "      <td>2021</td>\n",
       "      <td>image_collection</td>\n",
       "      <td>[ndsi]</td>\n",
       "      <td>https://developers.google.com/earth-engine/datasets/catalog/LANDSAT_LE07_C01_T1_8DAY_NDSI</td>\n",
       "      <td>https://mw1.google.com/ges/dd/images/NDSI_sample.png</td>\n",
       "    </tr>\n",
       "    <tr>\n",
       "      <th>243</th>\n",
       "      <td>LANDSAT/LT04/C01/T1_8DAY_NDSI</td>\n",
       "      <td>Google</td>\n",
       "      <td>Landsat 4 TM Collection 1 Tier 1 8-Day NDSI Composite</td>\n",
       "      <td>1982-08-22</td>\n",
       "      <td>1993-12-14</td>\n",
       "      <td>1982</td>\n",
       "      <td>1993</td>\n",
       "      <td>image_collection</td>\n",
       "      <td>[ndsi]</td>\n",
       "      <td>https://developers.google.com/earth-engine/datasets/catalog/LANDSAT_LT04_C01_T1_8DAY_NDSI</td>\n",
       "      <td>https://mw1.google.com/ges/dd/images/NDSI_sample.png</td>\n",
       "    </tr>\n",
       "    <tr>\n",
       "      <th>274</th>\n",
       "      <td>LANDSAT/LT05/C01/T1_8DAY_NDSI</td>\n",
       "      <td>Google</td>\n",
       "      <td>Landsat 5 TM Collection 1 Tier 1 8-Day NDSI Composite</td>\n",
       "      <td>1984-01-01</td>\n",
       "      <td>2012-05-05</td>\n",
       "      <td>1984</td>\n",
       "      <td>2012</td>\n",
       "      <td>image_collection</td>\n",
       "      <td>[ndsi]</td>\n",
       "      <td>https://developers.google.com/earth-engine/datasets/catalog/LANDSAT_LT05_C01_T1_8DAY_NDSI</td>\n",
       "      <td>https://mw1.google.com/ges/dd/images/NDSI_sample.png</td>\n",
       "    </tr>\n",
       "  </tbody>\n",
       "</table>\n",
       "</div>"
      ],
      "text/plain": [
       "                                id provider  \\\n",
       "161  LANDSAT/LC08/C01/T1_8DAY_NDSI   Google   \n",
       "194  LANDSAT/LE07/C01/T1_8DAY_NDSI   Google   \n",
       "243  LANDSAT/LT04/C01/T1_8DAY_NDSI   Google   \n",
       "274  LANDSAT/LT05/C01/T1_8DAY_NDSI   Google   \n",
       "\n",
       "                                                     title start_date  \\\n",
       "161     Landsat 8 Collection 1 Tier 1 8-Day NDSI Composite 2013-04-11   \n",
       "194     Landsat 7 Collection 1 Tier 1 8-Day NDSI Composite 1999-01-01   \n",
       "243  Landsat 4 TM Collection 1 Tier 1 8-Day NDSI Composite 1982-08-22   \n",
       "274  Landsat 5 TM Collection 1 Tier 1 8-Day NDSI Composite 1984-01-01   \n",
       "\n",
       "      end_date  startyear  endyear              type    tags  \\\n",
       "161 2021-03-09       2013     2021  image_collection  [ndsi]   \n",
       "194 2021-03-09       1999     2021  image_collection  [ndsi]   \n",
       "243 1993-12-14       1982     1993  image_collection  [ndsi]   \n",
       "274 2012-05-05       1984     2012  image_collection  [ndsi]   \n",
       "\n",
       "                                                                                     asset_url  \\\n",
       "161  https://developers.google.com/earth-engine/datasets/catalog/LANDSAT_LC08_C01_T1_8DAY_NDSI   \n",
       "194  https://developers.google.com/earth-engine/datasets/catalog/LANDSAT_LE07_C01_T1_8DAY_NDSI   \n",
       "243  https://developers.google.com/earth-engine/datasets/catalog/LANDSAT_LT04_C01_T1_8DAY_NDSI   \n",
       "274  https://developers.google.com/earth-engine/datasets/catalog/LANDSAT_LT05_C01_T1_8DAY_NDSI   \n",
       "\n",
       "                                            thumbnail_url  \n",
       "161  https://mw1.google.com/ges/dd/images/NDSI_sample.png  \n",
       "194  https://mw1.google.com/ges/dd/images/NDSI_sample.png  \n",
       "243  https://mw1.google.com/ges/dd/images/NDSI_sample.png  \n",
       "274  https://mw1.google.com/ges/dd/images/NDSI_sample.png  "
      ]
     },
     "execution_count": 33,
     "metadata": {},
     "output_type": "execute_result"
    }
   ],
   "source": [
    "results.datasets"
   ]
  },
  {
   "cell_type": "code",
   "execution_count": 35,
   "id": "loved-anaheim",
   "metadata": {},
   "outputs": [],
   "source": [
    "ndsi_zs = {}"
   ]
  },
  {
   "cell_type": "code",
   "execution_count": 36,
   "id": "pressing-calvin",
   "metadata": {},
   "outputs": [
    {
     "name": "stdout",
     "output_type": "stream",
     "text": [
      "Processing LANDSAT/LC08/C01/T1_8DAY_NDSI\n",
      "Processing LANDSAT/LE07/C01/T1_8DAY_NDSI\n",
      "Processing LANDSAT/LT04/C01/T1_8DAY_NDSI\n",
      "Processing LANDSAT/LT05/C01/T1_8DAY_NDSI\n"
     ]
    }
   ],
   "source": [
    "for landsat_collection in results.datasets.id:\n",
    "    print(f\"Processing {landsat_collection}\")\n",
    "    lc_id = landsat_collection[landsat_collection.find(\"/\")+1:landsat_collection.find(\"/\")+5]\n",
    "\n",
    "    collection_results = []\n",
    "    for stat in temp_stats:\n",
    "\n",
    "        zs = ZonalStats(\n",
    "            collection_id=landsat_collection, \n",
    "            target_features=AOIs,\n",
    "            statistic_type=\"all\", \n",
    "            output_name=f\"{lc_id}_ndsi_{stat}\",\n",
    "            scale=1000,\n",
    "            frequency='annual',\n",
    "            temporal_stat=stat,\n",
    "            tile_scale = 16,\n",
    "            start_year = 2021,\n",
    "            end_year = 2022\n",
    "        )\n",
    "        zs.runZonalStats()\n",
    "        collection_results.append(zs)\n",
    "\n",
    "    ndsi_zs[lc_id] = collection_results"
   ]
  },
  {
   "cell_type": "code",
   "execution_count": 174,
   "id": "secondary-development",
   "metadata": {},
   "outputs": [
    {
     "name": "stdout",
     "output_type": "stream",
     "text": [
      "LC08\n",
      "Completed\n",
      "Runtime: 266 minutes and 49 seconds\n",
      "Completed\n",
      "Runtime: 111 minutes and 15 seconds\n",
      "Completed\n",
      "Runtime: 266 minutes and 33 seconds\n",
      "Completed\n",
      "Runtime: 266 minutes and 27 seconds\n",
      "LE07\n",
      "Completed\n",
      "Runtime: 328 minutes and 31 seconds\n",
      "Completed\n",
      "Runtime: 266 minutes and 1 seconds\n",
      "Completed\n",
      "Runtime: 148 minutes and 40 seconds\n",
      "Completed\n",
      "Runtime: 142 minutes and 38 seconds\n",
      "LT04\n",
      "LT05\n",
      "Still running\n",
      "Runtime: 186 minutes and 3 seconds\n",
      "Completed\n",
      "Runtime: 154 minutes and 2 seconds\n",
      "Still running\n",
      "Runtime: 165 minutes and 28 seconds\n",
      "Still running\n",
      "Runtime: 43 minutes and 23 seconds\n"
     ]
    }
   ],
   "source": [
    "for lc_id, zs_list in ndsi_zs.items():\n",
    "    print(lc_id)\n",
    "    for zs in zs_list:\n",
    "        zs.reportRunTime()\n",
    "#         zs.task.cancel()\n",
    "#         print(\"\\t\"+zs.task.status()['state'])"
   ]
  },
  {
   "cell_type": "markdown",
   "id": "exterior-poverty",
   "metadata": {},
   "source": [
    "## NDWI"
   ]
  },
  {
   "cell_type": "code",
   "execution_count": 175,
   "id": "split-chassis",
   "metadata": {},
   "outputs": [],
   "source": [
    "results = cat.search_tags(\"ndwi\")\n",
    "results = results.search_title(\"landsat\")\n",
    "results = results.search_title(\"8-day\")"
   ]
  },
  {
   "cell_type": "code",
   "execution_count": 176,
   "id": "powerful-poverty",
   "metadata": {},
   "outputs": [
    {
     "data": {
      "text/html": [
       "<div>\n",
       "<style scoped>\n",
       "    .dataframe tbody tr th:only-of-type {\n",
       "        vertical-align: middle;\n",
       "    }\n",
       "\n",
       "    .dataframe tbody tr th {\n",
       "        vertical-align: top;\n",
       "    }\n",
       "\n",
       "    .dataframe thead th {\n",
       "        text-align: right;\n",
       "    }\n",
       "</style>\n",
       "<table border=\"1\" class=\"dataframe\">\n",
       "  <thead>\n",
       "    <tr style=\"text-align: right;\">\n",
       "      <th></th>\n",
       "      <th>id</th>\n",
       "      <th>provider</th>\n",
       "      <th>title</th>\n",
       "      <th>start_date</th>\n",
       "      <th>end_date</th>\n",
       "      <th>startyear</th>\n",
       "      <th>endyear</th>\n",
       "      <th>type</th>\n",
       "      <th>tags</th>\n",
       "      <th>asset_url</th>\n",
       "      <th>thumbnail_url</th>\n",
       "    </tr>\n",
       "  </thead>\n",
       "  <tbody>\n",
       "    <tr>\n",
       "      <th>163</th>\n",
       "      <td>LANDSAT/LC08/C01/T1_8DAY_NDWI</td>\n",
       "      <td>Google</td>\n",
       "      <td>Landsat 8 Collection 1 Tier 1 8-Day NDWI Composite</td>\n",
       "      <td>2013-04-11</td>\n",
       "      <td>2021-03-09</td>\n",
       "      <td>2013</td>\n",
       "      <td>2021</td>\n",
       "      <td>image_collection</td>\n",
       "      <td>[ndwi]</td>\n",
       "      <td>https://developers.google.com/earth-engine/datasets/catalog/LANDSAT_LC08_C01_T1_8DAY_NDWI</td>\n",
       "      <td>https://mw1.google.com/ges/dd/images/NDWI_sample.png</td>\n",
       "    </tr>\n",
       "    <tr>\n",
       "      <th>196</th>\n",
       "      <td>LANDSAT/LE07/C01/T1_8DAY_NDWI</td>\n",
       "      <td>Google</td>\n",
       "      <td>Landsat 7 Collection 1 Tier 1 8-Day NDWI Composite</td>\n",
       "      <td>1999-01-01</td>\n",
       "      <td>2021-03-09</td>\n",
       "      <td>1999</td>\n",
       "      <td>2021</td>\n",
       "      <td>image_collection</td>\n",
       "      <td>[ndwi]</td>\n",
       "      <td>https://developers.google.com/earth-engine/datasets/catalog/LANDSAT_LE07_C01_T1_8DAY_NDWI</td>\n",
       "      <td>https://mw1.google.com/ges/dd/images/NDWI_sample.png</td>\n",
       "    </tr>\n",
       "    <tr>\n",
       "      <th>245</th>\n",
       "      <td>LANDSAT/LT04/C01/T1_8DAY_NDWI</td>\n",
       "      <td>Google</td>\n",
       "      <td>Landsat 4 TM Collection 1 Tier 1 8-Day NDWI Composite</td>\n",
       "      <td>1982-08-22</td>\n",
       "      <td>1993-12-14</td>\n",
       "      <td>1982</td>\n",
       "      <td>1993</td>\n",
       "      <td>image_collection</td>\n",
       "      <td>[ndwi]</td>\n",
       "      <td>https://developers.google.com/earth-engine/datasets/catalog/LANDSAT_LT04_C01_T1_8DAY_NDWI</td>\n",
       "      <td>https://mw1.google.com/ges/dd/images/NDWI_sample.png</td>\n",
       "    </tr>\n",
       "    <tr>\n",
       "      <th>276</th>\n",
       "      <td>LANDSAT/LT05/C01/T1_8DAY_NDWI</td>\n",
       "      <td>Google</td>\n",
       "      <td>Landsat 5 TM Collection 1 Tier 1 8-Day NDWI Composite</td>\n",
       "      <td>1984-01-01</td>\n",
       "      <td>2012-05-05</td>\n",
       "      <td>1984</td>\n",
       "      <td>2012</td>\n",
       "      <td>image_collection</td>\n",
       "      <td>[ndwi]</td>\n",
       "      <td>https://developers.google.com/earth-engine/datasets/catalog/LANDSAT_LT05_C01_T1_8DAY_NDWI</td>\n",
       "      <td>https://mw1.google.com/ges/dd/images/NDWI_sample.png</td>\n",
       "    </tr>\n",
       "  </tbody>\n",
       "</table>\n",
       "</div>"
      ],
      "text/plain": [
       "                                id provider  \\\n",
       "163  LANDSAT/LC08/C01/T1_8DAY_NDWI   Google   \n",
       "196  LANDSAT/LE07/C01/T1_8DAY_NDWI   Google   \n",
       "245  LANDSAT/LT04/C01/T1_8DAY_NDWI   Google   \n",
       "276  LANDSAT/LT05/C01/T1_8DAY_NDWI   Google   \n",
       "\n",
       "                                                     title start_date  \\\n",
       "163     Landsat 8 Collection 1 Tier 1 8-Day NDWI Composite 2013-04-11   \n",
       "196     Landsat 7 Collection 1 Tier 1 8-Day NDWI Composite 1999-01-01   \n",
       "245  Landsat 4 TM Collection 1 Tier 1 8-Day NDWI Composite 1982-08-22   \n",
       "276  Landsat 5 TM Collection 1 Tier 1 8-Day NDWI Composite 1984-01-01   \n",
       "\n",
       "      end_date  startyear  endyear              type    tags  \\\n",
       "163 2021-03-09       2013     2021  image_collection  [ndwi]   \n",
       "196 2021-03-09       1999     2021  image_collection  [ndwi]   \n",
       "245 1993-12-14       1982     1993  image_collection  [ndwi]   \n",
       "276 2012-05-05       1984     2012  image_collection  [ndwi]   \n",
       "\n",
       "                                                                                     asset_url  \\\n",
       "163  https://developers.google.com/earth-engine/datasets/catalog/LANDSAT_LC08_C01_T1_8DAY_NDWI   \n",
       "196  https://developers.google.com/earth-engine/datasets/catalog/LANDSAT_LE07_C01_T1_8DAY_NDWI   \n",
       "245  https://developers.google.com/earth-engine/datasets/catalog/LANDSAT_LT04_C01_T1_8DAY_NDWI   \n",
       "276  https://developers.google.com/earth-engine/datasets/catalog/LANDSAT_LT05_C01_T1_8DAY_NDWI   \n",
       "\n",
       "                                            thumbnail_url  \n",
       "163  https://mw1.google.com/ges/dd/images/NDWI_sample.png  \n",
       "196  https://mw1.google.com/ges/dd/images/NDWI_sample.png  \n",
       "245  https://mw1.google.com/ges/dd/images/NDWI_sample.png  \n",
       "276  https://mw1.google.com/ges/dd/images/NDWI_sample.png  "
      ]
     },
     "execution_count": 176,
     "metadata": {},
     "output_type": "execute_result"
    }
   ],
   "source": [
    "results.datasets"
   ]
  },
  {
   "cell_type": "code",
   "execution_count": 37,
   "id": "appointed-holder",
   "metadata": {},
   "outputs": [],
   "source": [
    "ndwi_zs = {}"
   ]
  },
  {
   "cell_type": "code",
   "execution_count": 38,
   "id": "aware-connectivity",
   "metadata": {},
   "outputs": [
    {
     "name": "stdout",
     "output_type": "stream",
     "text": [
      "Processing LANDSAT/LC08/C01/T1_8DAY_NDSI\n",
      "Processing LANDSAT/LE07/C01/T1_8DAY_NDSI\n",
      "Processing LANDSAT/LT04/C01/T1_8DAY_NDSI\n",
      "Processing LANDSAT/LT05/C01/T1_8DAY_NDSI\n"
     ]
    }
   ],
   "source": [
    "for landsat_collection in results.datasets.id:\n",
    "    print(f\"Processing {landsat_collection}\")\n",
    "    lc_id = landsat_collection[landsat_collection.find(\"/\")+1:landsat_collection.find(\"/\")+5]\n",
    "\n",
    "    collection_results = []\n",
    "    for stat in temp_stats:\n",
    "\n",
    "        zs = ZonalStats(\n",
    "            collection_id=landsat_collection, \n",
    "            target_features=AOIs,\n",
    "            statistic_type=\"all\", \n",
    "            output_name=f\"{lc_id}_ndwi_{stat}\",\n",
    "            scale=10000,\n",
    "            frequency='annual',\n",
    "            temporal_stat=stat,\n",
    "            tile_scale = 16,\n",
    "            start_year = 2021,\n",
    "            end_year = 2022\n",
    "        )\n",
    "        zs.runZonalStats()\n",
    "        collection_results.append(zs)\n",
    "\n",
    "    ndsi_zs[lc_id] = collection_results"
   ]
  },
  {
   "cell_type": "markdown",
   "id": "unusual-hostel",
   "metadata": {},
   "source": [
    "## LST"
   ]
  },
  {
   "cell_type": "code",
   "execution_count": null,
   "id": "ahead-hayes",
   "metadata": {},
   "outputs": [],
   "source": [
    "cat_res = cat.search_tags(\"temperature\")\n",
    "cat_res = cat_res.search_title(\"ECMWF\")"
   ]
  },
  {
   "cell_type": "code",
   "execution_count": null,
   "id": "olive-leisure",
   "metadata": {},
   "outputs": [],
   "source": [
    "cat_res.datasets"
   ]
  },
  {
   "cell_type": "code",
   "execution_count": null,
   "id": "eligible-serum",
   "metadata": {},
   "outputs": [],
   "source": [
    "col_id_lst = 'ECMWF/ERA5_LAND/MONTHLY'"
   ]
  },
  {
   "cell_type": "code",
   "execution_count": null,
   "id": "rapid-queen",
   "metadata": {},
   "outputs": [],
   "source": [
    "results_temp = []"
   ]
  },
  {
   "cell_type": "code",
   "execution_count": null,
   "id": "agreed-maker",
   "metadata": {},
   "outputs": [],
   "source": [
    "for stat in temp_stats:\n",
    "    zs = ZonalStats(\n",
    "        collection_id=col_id_lst,\n",
    "        band = \"temperature_2m\",\n",
    "        target_features=AOIs,\n",
    "        statistic_type=\"all\", \n",
    "        output_name=f\"lst_{stat}\",\n",
    "        scale=10000,\n",
    "        frequency='annual',\n",
    "        temporal_stat=stat,\n",
    "        tile_scale = 16,\n",
    "    )\n",
    "    zs.runZonalStats()\n",
    "    results_temp.append(zs)"
   ]
  },
  {
   "cell_type": "code",
   "execution_count": null,
   "id": "formed-ethics",
   "metadata": {},
   "outputs": [],
   "source": [
    "for zs in results_temp:\n",
    "    zs.reportRunTime()"
   ]
  },
  {
   "cell_type": "markdown",
   "id": "mysterious-sweet",
   "metadata": {},
   "source": [
    "## CHIRPS"
   ]
  },
  {
   "cell_type": "code",
   "execution_count": null,
   "id": "genuine-istanbul",
   "metadata": {},
   "outputs": [],
   "source": [
    "cat_res = cat.search_title(\"CHIRPS\")"
   ]
  },
  {
   "cell_type": "code",
   "execution_count": null,
   "id": "cubic-failure",
   "metadata": {},
   "outputs": [],
   "source": [
    "cat_res.datasets"
   ]
  },
  {
   "cell_type": "code",
   "execution_count": null,
   "id": "opening-export",
   "metadata": {},
   "outputs": [],
   "source": [
    "col_id_rain = 'UCSB-CHG/CHIRPS/PENTAD'"
   ]
  },
  {
   "cell_type": "code",
   "execution_count": null,
   "id": "engaging-badge",
   "metadata": {},
   "outputs": [],
   "source": [
    "results_chirps = []"
   ]
  },
  {
   "cell_type": "code",
   "execution_count": null,
   "id": "norman-situation",
   "metadata": {},
   "outputs": [],
   "source": [
    "zs_all = ZonalStats(\n",
    "    collection_id=col_id_rain,\n",
    "    band = \"precipitation\",\n",
    "    target_features=AOIs,\n",
    "    statistic_type=\"all\", \n",
    "    output_name=f\"chirps\",\n",
    "    scale=1000,\n",
    "    frequency='annual',\n",
    "    temporal_stat='sum',\n",
    "    tile_scale = 16,\n",
    ")\n",
    "zs_all.runZonalStats()"
   ]
  },
  {
   "cell_type": "code",
   "execution_count": null,
   "id": "associate-canada",
   "metadata": {},
   "outputs": [],
   "source": [
    "zs_sum = ZonalStats(\n",
    "    collection_id=col_id_rain,\n",
    "    band = \"precipitation\",\n",
    "    target_features=AOIs,\n",
    "    statistic_type=\"sum\", \n",
    "    output_name=f\"chirps_sum\",\n",
    "    scale=1000,\n",
    "    frequency='annual',\n",
    "    temporal_stat='sum',\n",
    "    tile_scale = 16\n",
    ")\n",
    "zs.runZonalStats()"
   ]
  },
  {
   "cell_type": "code",
   "execution_count": null,
   "id": "traditional-return",
   "metadata": {},
   "outputs": [],
   "source": [
    "zs_all.reportRunTime()"
   ]
  },
  {
   "cell_type": "code",
   "execution_count": null,
   "id": "manual-secretariat",
   "metadata": {},
   "outputs": [],
   "source": [
    "zs_sum.reportRunTime()"
   ]
  },
  {
   "cell_type": "markdown",
   "id": "billion-shooting",
   "metadata": {},
   "source": [
    "## Night Lights"
   ]
  },
  {
   "cell_type": "code",
   "execution_count": null,
   "id": "august-witch",
   "metadata": {},
   "outputs": [],
   "source": [
    "temp_stats = ['sum', 'mean', 'max']"
   ]
  },
  {
   "cell_type": "code",
   "execution_count": null,
   "id": "lesbian-coupon",
   "metadata": {},
   "outputs": [],
   "source": [
    "dmps = 'NOAA/DMSP-OLS/NIGHTTIME_LIGHTS'"
   ]
  },
  {
   "cell_type": "code",
   "execution_count": null,
   "id": "successful-diagnosis",
   "metadata": {},
   "outputs": [],
   "source": [
    "results_dmps = []"
   ]
  },
  {
   "cell_type": "code",
   "execution_count": null,
   "id": "portable-manhattan",
   "metadata": {},
   "outputs": [],
   "source": [
    "for stat in temp_stats:\n",
    "    zs = ZonalStats(\n",
    "        collection_id=dmps,\n",
    "        band = \"stable_lights\",\n",
    "        target_features=AOIs,\n",
    "        statistic_type=\"all\", \n",
    "        output_name=f\"dmps_{stat}\",\n",
    "        scale=1000,\n",
    "        frequency='annual',\n",
    "        temporal_stat=stat,\n",
    "        tile_scale = 16,\n",
    "        min_threshold = 0\n",
    "    )\n",
    "    zs.runZonalStats()\n",
    "    results_dmps.append(zs)"
   ]
  },
  {
   "cell_type": "code",
   "execution_count": null,
   "id": "optional-division",
   "metadata": {},
   "outputs": [],
   "source": [
    "viirs = 'NOAA/VIIRS/DNB/MONTHLY_V1/VCMSLCFG'"
   ]
  },
  {
   "cell_type": "code",
   "execution_count": null,
   "id": "italian-missouri",
   "metadata": {},
   "outputs": [],
   "source": [
    "for stat in temp_stats:\n",
    "    zs = ZonalStats(\n",
    "        collection_id=viirs,\n",
    "        band = \"avg_rad\",\n",
    "        target_features=AOIs,\n",
    "        statistic_type=\"all\", \n",
    "        output_name=f\"viirs_{stat}\",\n",
    "        scale=1000,\n",
    "        frequency='annual',\n",
    "        temporal_stat=stat,\n",
    "        tile_scale = 16,\n",
    "        min_threshold = 0\n",
    "    )\n",
    "    zs.runZonalStats()\n",
    "    results_viirs.append(zs)"
   ]
  },
  {
   "cell_type": "markdown",
   "id": "mediterranean-donor",
   "metadata": {},
   "source": [
    "## Impervious"
   ]
  },
  {
   "cell_type": "code",
   "execution_count": 9,
   "id": "alien-klein",
   "metadata": {},
   "outputs": [],
   "source": [
    "zs = ZonalStats_Tsinghua(\n",
    "    target_features=AOIs,\n",
    "    output_name=f\"impervious\",\n",
    "    scale=10000,\n",
    "    tile_scale = 16\n",
    ")\n",
    "zs.runZonalStats()"
   ]
  },
  {
   "cell_type": "code",
   "execution_count": 16,
   "id": "binding-theta",
   "metadata": {},
   "outputs": [
    {
     "name": "stdout",
     "output_type": "stream",
     "text": [
      "Still running\n",
      "Runtime: 122 minutes and 51 seconds\n",
      "Still running\n",
      "Runtime: 119 minutes and 26 seconds\n"
     ]
    }
   ],
   "source": [
    "zs.reportRunTime()"
   ]
  },
  {
   "cell_type": "markdown",
   "id": "charged-compilation",
   "metadata": {},
   "source": [
    "## Cropland"
   ]
  },
  {
   "cell_type": "code",
   "execution_count": 11,
   "id": "residential-diagnosis",
   "metadata": {},
   "outputs": [],
   "source": [
    "zs_crop = ZonalStats_Modis(\n",
    "    target_features=AOIs,\n",
    "    output_name=f\"cropland\",\n",
    "    scale=10000,\n",
    "    tile_scale = 16\n",
    ")\n",
    "zs_crop.runZonalStats()"
   ]
  },
  {
   "cell_type": "code",
   "execution_count": 12,
   "id": "honest-baseball",
   "metadata": {},
   "outputs": [
    {
     "name": "stdout",
     "output_type": "stream",
     "text": [
      "Status is Ready, hasn't started\n"
     ]
    }
   ],
   "source": [
    "zs_crop.reportRunTime()"
   ]
  }
 ],
 "metadata": {
  "kernelspec": {
   "display_name": "Earth Engine",
   "language": "python",
   "name": "ee"
  },
  "language_info": {
   "codemirror_mode": {
    "name": "ipython",
    "version": 3
   },
   "file_extension": ".py",
   "mimetype": "text/x-python",
   "name": "python",
   "nbconvert_exporter": "python",
   "pygments_lexer": "ipython3",
   "version": "3.8.8"
  },
  "toc": {
   "base_numbering": 1,
   "nav_menu": {},
   "number_sections": true,
   "sideBar": true,
   "skip_h1_title": false,
   "title_cell": "Table of Contents",
   "title_sidebar": "Contents",
   "toc_cell": false,
   "toc_position": {},
   "toc_section_display": true,
   "toc_window_display": false
  },
  "varInspector": {
   "cols": {
    "lenName": 16,
    "lenType": 16,
    "lenVar": 40
   },
   "kernels_config": {
    "python": {
     "delete_cmd_postfix": "",
     "delete_cmd_prefix": "del ",
     "library": "var_list.py",
     "varRefreshCmd": "print(var_dic_list())"
    },
    "r": {
     "delete_cmd_postfix": ") ",
     "delete_cmd_prefix": "rm(",
     "library": "var_list.r",
     "varRefreshCmd": "cat(var_dic_list()) "
    }
   },
   "types_to_exclude": [
    "module",
    "function",
    "builtin_function_or_method",
    "instance",
    "_Feature"
   ],
   "window_display": false
  }
 },
 "nbformat": 4,
 "nbformat_minor": 5
}
